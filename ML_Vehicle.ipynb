{
 "cells": [
  {
   "cell_type": "markdown",
   "id": "9a12be84",
   "metadata": {},
   "source": [
    "<h1>Machine learning model</h1> \n",
    "    <h4>Target = \"TONS_CO2\"</h4>"
   ]
  },
  {
   "cell_type": "code",
   "execution_count": 1,
   "id": "0d325180",
   "metadata": {},
   "outputs": [],
   "source": [
    "import pandas as pd\n",
    "from sklearn.metrics import mean_absolute_error\n",
    "from sklearn.model_selection import train_test_split\n",
    "from sklearn.tree import DecisionTreeRegressor\n",
    "from imblearn.under_sampling import RandomUnderSampler"
   ]
  },
  {
   "cell_type": "code",
   "execution_count": 2,
   "id": "a8650aa2",
   "metadata": {},
   "outputs": [],
   "source": [
    "#pip install nbconvert"
   ]
  },
  {
   "cell_type": "code",
   "execution_count": 3,
   "id": "9dc7f1d1",
   "metadata": {},
   "outputs": [],
   "source": [
    "#pip install pyppeteer"
   ]
  },
  {
   "cell_type": "code",
   "execution_count": 21,
   "id": "c5a4ae1e",
   "metadata": {},
   "outputs": [],
   "source": [
    "#pip install pandoc"
   ]
  },
  {
   "cell_type": "code",
   "execution_count": 5,
   "id": "f301ceef",
   "metadata": {},
   "outputs": [
    {
     "data": {
      "text/html": [
       "<div>\n",
       "<style scoped>\n",
       "    .dataframe tbody tr th:only-of-type {\n",
       "        vertical-align: middle;\n",
       "    }\n",
       "\n",
       "    .dataframe tbody tr th {\n",
       "        vertical-align: top;\n",
       "    }\n",
       "\n",
       "    .dataframe thead th {\n",
       "        text-align: right;\n",
       "    }\n",
       "</style>\n",
       "<table border=\"1\" class=\"dataframe\">\n",
       "  <thead>\n",
       "    <tr style=\"text-align: right;\">\n",
       "      <th></th>\n",
       "      <th>PLATE</th>\n",
       "      <th>VEHICLE_TYPE</th>\n",
       "      <th>FUEL_TYPE</th>\n",
       "      <th>EURO_CLASS</th>\n",
       "      <th>REGISTRATION_YEAR</th>\n",
       "      <th>COMBINED_COMSUMPTION_F_CIRC_CARD_KM_L</th>\n",
       "      <th>EMISSIONS_G_KM</th>\n",
       "      <th>L_FUEL_CHARGED_ON_COMPANY_CARD</th>\n",
       "      <th>KM_RUN_2021</th>\n",
       "      <th>CFP</th>\n",
       "      <th>TONS_CO2</th>\n",
       "    </tr>\n",
       "  </thead>\n",
       "  <tbody>\n",
       "    <tr>\n",
       "      <th>0</th>\n",
       "      <td>AZ205BE</td>\n",
       "      <td>RENAULT/V.I. 180</td>\n",
       "      <td>D</td>\n",
       "      <td>2</td>\n",
       "      <td>1998</td>\n",
       "      <td>14.28</td>\n",
       "      <td>259.4</td>\n",
       "      <td>2797.36</td>\n",
       "      <td>39946.30</td>\n",
       "      <td>10362070.43</td>\n",
       "      <td>33</td>\n",
       "    </tr>\n",
       "    <tr>\n",
       "      <th>1</th>\n",
       "      <td>BF992AB</td>\n",
       "      <td>IVECO/170</td>\n",
       "      <td>D</td>\n",
       "      <td>2</td>\n",
       "      <td>1999</td>\n",
       "      <td>14.28</td>\n",
       "      <td>259.4</td>\n",
       "      <td>2605.07</td>\n",
       "      <td>37200.40</td>\n",
       "      <td>9649783.66</td>\n",
       "      <td>30</td>\n",
       "    </tr>\n",
       "    <tr>\n",
       "      <th>2</th>\n",
       "      <td>BW580LN</td>\n",
       "      <td>IVECO/MAGIRUS</td>\n",
       "      <td>D</td>\n",
       "      <td>1</td>\n",
       "      <td>1993</td>\n",
       "      <td>14.28</td>\n",
       "      <td>259.4</td>\n",
       "      <td>5342.75</td>\n",
       "      <td>76294.47</td>\n",
       "      <td>19790785.52</td>\n",
       "      <td>62</td>\n",
       "    </tr>\n",
       "    <tr>\n",
       "      <th>3</th>\n",
       "      <td>BY310MS</td>\n",
       "      <td>NISSAN/TERRANO</td>\n",
       "      <td>D</td>\n",
       "      <td>3</td>\n",
       "      <td>2002</td>\n",
       "      <td>10.20</td>\n",
       "      <td>260.0</td>\n",
       "      <td>3230.43</td>\n",
       "      <td>32950.39</td>\n",
       "      <td>8567100.36</td>\n",
       "      <td>27</td>\n",
       "    </tr>\n",
       "    <tr>\n",
       "      <th>4</th>\n",
       "      <td>CB740KE</td>\n",
       "      <td>IVECO/150</td>\n",
       "      <td>D</td>\n",
       "      <td>3</td>\n",
       "      <td>2002</td>\n",
       "      <td>14.28</td>\n",
       "      <td>259.4</td>\n",
       "      <td>2087.44</td>\n",
       "      <td>29808.64</td>\n",
       "      <td>7732362.05</td>\n",
       "      <td>24</td>\n",
       "    </tr>\n",
       "  </tbody>\n",
       "</table>\n",
       "</div>"
      ],
      "text/plain": [
       "            PLATE      VEHICLE_TYPE FUEL_TYPE  EURO_CLASS  REGISTRATION_YEAR  \\\n",
       "0  AZ205BE         RENAULT/V.I. 180         D           2               1998   \n",
       "1  BF992AB                IVECO/170         D           2               1999   \n",
       "2  BW580LN            IVECO/MAGIRUS         D           1               1993   \n",
       "3  BY310MS           NISSAN/TERRANO         D           3               2002   \n",
       "4  CB740KE                IVECO/150         D           3               2002   \n",
       "\n",
       "   COMBINED_COMSUMPTION_F_CIRC_CARD_KM_L  EMISSIONS_G_KM  \\\n",
       "0                                  14.28           259.4   \n",
       "1                                  14.28           259.4   \n",
       "2                                  14.28           259.4   \n",
       "3                                  10.20           260.0   \n",
       "4                                  14.28           259.4   \n",
       "\n",
       "   L_FUEL_CHARGED_ON_COMPANY_CARD  KM_RUN_2021          CFP  TONS_CO2  \n",
       "0                         2797.36     39946.30  10362070.43        33  \n",
       "1                         2605.07     37200.40   9649783.66        30  \n",
       "2                         5342.75     76294.47  19790785.52        62  \n",
       "3                         3230.43     32950.39   8567100.36        27  \n",
       "4                         2087.44     29808.64   7732362.05        24  "
      ]
     },
     "execution_count": 5,
     "metadata": {},
     "output_type": "execute_result"
    }
   ],
   "source": [
    "data = pd.read_excel(\"../Data/socotecDB_Veh.xls\")\n",
    "data.head()"
   ]
  },
  {
   "cell_type": "code",
   "execution_count": 6,
   "id": "eb72ae76",
   "metadata": {},
   "outputs": [
    {
     "data": {
      "text/html": [
       "<div>\n",
       "<style scoped>\n",
       "    .dataframe tbody tr th:only-of-type {\n",
       "        vertical-align: middle;\n",
       "    }\n",
       "\n",
       "    .dataframe tbody tr th {\n",
       "        vertical-align: top;\n",
       "    }\n",
       "\n",
       "    .dataframe thead th {\n",
       "        text-align: right;\n",
       "    }\n",
       "</style>\n",
       "<table border=\"1\" class=\"dataframe\">\n",
       "  <thead>\n",
       "    <tr style=\"text-align: right;\">\n",
       "      <th></th>\n",
       "      <th>PLATE</th>\n",
       "      <th>VEHICLE_TYPE</th>\n",
       "      <th>FUEL_TYPE</th>\n",
       "      <th>EURO_CLASS</th>\n",
       "      <th>REGISTRATION_YEAR</th>\n",
       "      <th>COMBINED_COMSUMPTION_F_CIRC_CARD_KM_L</th>\n",
       "      <th>EMISSIONS_G_KM</th>\n",
       "      <th>L_FUEL_CHARGED_ON_COMPANY_CARD</th>\n",
       "      <th>KM_RUN_2021</th>\n",
       "      <th>CFP</th>\n",
       "    </tr>\n",
       "    <tr>\n",
       "      <th>TONS_CO2</th>\n",
       "      <th></th>\n",
       "      <th></th>\n",
       "      <th></th>\n",
       "      <th></th>\n",
       "      <th></th>\n",
       "      <th></th>\n",
       "      <th></th>\n",
       "      <th></th>\n",
       "      <th></th>\n",
       "      <th></th>\n",
       "    </tr>\n",
       "  </thead>\n",
       "  <tbody>\n",
       "    <tr>\n",
       "      <th>33</th>\n",
       "      <td>AZ205BE</td>\n",
       "      <td>RENAULT/V.I. 180</td>\n",
       "      <td>D</td>\n",
       "      <td>2</td>\n",
       "      <td>1998</td>\n",
       "      <td>14.28</td>\n",
       "      <td>259.4</td>\n",
       "      <td>2797.36</td>\n",
       "      <td>39946.30</td>\n",
       "      <td>10362070.43</td>\n",
       "    </tr>\n",
       "    <tr>\n",
       "      <th>30</th>\n",
       "      <td>BF992AB</td>\n",
       "      <td>IVECO/170</td>\n",
       "      <td>D</td>\n",
       "      <td>2</td>\n",
       "      <td>1999</td>\n",
       "      <td>14.28</td>\n",
       "      <td>259.4</td>\n",
       "      <td>2605.07</td>\n",
       "      <td>37200.40</td>\n",
       "      <td>9649783.66</td>\n",
       "    </tr>\n",
       "    <tr>\n",
       "      <th>62</th>\n",
       "      <td>BW580LN</td>\n",
       "      <td>IVECO/MAGIRUS</td>\n",
       "      <td>D</td>\n",
       "      <td>1</td>\n",
       "      <td>1993</td>\n",
       "      <td>14.28</td>\n",
       "      <td>259.4</td>\n",
       "      <td>5342.75</td>\n",
       "      <td>76294.47</td>\n",
       "      <td>19790785.52</td>\n",
       "    </tr>\n",
       "    <tr>\n",
       "      <th>27</th>\n",
       "      <td>BY310MS</td>\n",
       "      <td>NISSAN/TERRANO</td>\n",
       "      <td>D</td>\n",
       "      <td>3</td>\n",
       "      <td>2002</td>\n",
       "      <td>10.20</td>\n",
       "      <td>260.0</td>\n",
       "      <td>3230.43</td>\n",
       "      <td>32950.39</td>\n",
       "      <td>8567100.36</td>\n",
       "    </tr>\n",
       "    <tr>\n",
       "      <th>24</th>\n",
       "      <td>CB740KE</td>\n",
       "      <td>IVECO/150</td>\n",
       "      <td>D</td>\n",
       "      <td>3</td>\n",
       "      <td>2002</td>\n",
       "      <td>14.28</td>\n",
       "      <td>259.4</td>\n",
       "      <td>2087.44</td>\n",
       "      <td>29808.64</td>\n",
       "      <td>7732362.05</td>\n",
       "    </tr>\n",
       "    <tr>\n",
       "      <th>...</th>\n",
       "      <td>...</td>\n",
       "      <td>...</td>\n",
       "      <td>...</td>\n",
       "      <td>...</td>\n",
       "      <td>...</td>\n",
       "      <td>...</td>\n",
       "      <td>...</td>\n",
       "      <td>...</td>\n",
       "      <td>...</td>\n",
       "      <td>...</td>\n",
       "    </tr>\n",
       "    <tr>\n",
       "      <th>62</th>\n",
       "      <td>GA180AA</td>\n",
       "      <td>FIAT/TALENTO</td>\n",
       "      <td>D</td>\n",
       "      <td>6</td>\n",
       "      <td>2020</td>\n",
       "      <td>16.66</td>\n",
       "      <td>144.0</td>\n",
       "      <td>8180.53</td>\n",
       "      <td>136287.71</td>\n",
       "      <td>19625430.16</td>\n",
       "    </tr>\n",
       "    <tr>\n",
       "      <th>62</th>\n",
       "      <td>GA179AA</td>\n",
       "      <td>FIAT/TALENTO</td>\n",
       "      <td>D</td>\n",
       "      <td>6</td>\n",
       "      <td>2020</td>\n",
       "      <td>16.66</td>\n",
       "      <td>144.0</td>\n",
       "      <td>8180.53</td>\n",
       "      <td>136287.71</td>\n",
       "      <td>19625430.16</td>\n",
       "    </tr>\n",
       "    <tr>\n",
       "      <th>62</th>\n",
       "      <td>GC749MV</td>\n",
       "      <td>FIAT/TALENTO</td>\n",
       "      <td>D</td>\n",
       "      <td>6</td>\n",
       "      <td>2020</td>\n",
       "      <td>16.66</td>\n",
       "      <td>144.0</td>\n",
       "      <td>8180.53</td>\n",
       "      <td>136287.71</td>\n",
       "      <td>19625430.16</td>\n",
       "    </tr>\n",
       "    <tr>\n",
       "      <th>62</th>\n",
       "      <td>GC750MW</td>\n",
       "      <td>FIAT/TALENTO</td>\n",
       "      <td>D</td>\n",
       "      <td>6</td>\n",
       "      <td>2020</td>\n",
       "      <td>16.66</td>\n",
       "      <td>144.0</td>\n",
       "      <td>8180.53</td>\n",
       "      <td>136287.71</td>\n",
       "      <td>19625430.16</td>\n",
       "    </tr>\n",
       "    <tr>\n",
       "      <th>62</th>\n",
       "      <td>GC715MW</td>\n",
       "      <td>FIAT/TALENTO</td>\n",
       "      <td>D</td>\n",
       "      <td>6</td>\n",
       "      <td>2020</td>\n",
       "      <td>16.66</td>\n",
       "      <td>144.0</td>\n",
       "      <td>8180.53</td>\n",
       "      <td>136287.71</td>\n",
       "      <td>19625430.16</td>\n",
       "    </tr>\n",
       "  </tbody>\n",
       "</table>\n",
       "<p>210 rows × 10 columns</p>\n",
       "</div>"
      ],
      "text/plain": [
       "                   PLATE      VEHICLE_TYPE FUEL_TYPE  EURO_CLASS  \\\n",
       "TONS_CO2                                                           \n",
       "33        AZ205BE         RENAULT/V.I. 180         D           2   \n",
       "30        BF992AB                IVECO/170         D           2   \n",
       "62        BW580LN            IVECO/MAGIRUS         D           1   \n",
       "27        BY310MS           NISSAN/TERRANO         D           3   \n",
       "24        CB740KE                IVECO/150         D           3   \n",
       "...                  ...               ...       ...         ...   \n",
       "62               GA180AA      FIAT/TALENTO         D           6   \n",
       "62               GA179AA      FIAT/TALENTO         D           6   \n",
       "62               GC749MV      FIAT/TALENTO         D           6   \n",
       "62               GC750MW      FIAT/TALENTO         D           6   \n",
       "62               GC715MW      FIAT/TALENTO         D           6   \n",
       "\n",
       "          REGISTRATION_YEAR  COMBINED_COMSUMPTION_F_CIRC_CARD_KM_L  \\\n",
       "TONS_CO2                                                             \n",
       "33                     1998                                  14.28   \n",
       "30                     1999                                  14.28   \n",
       "62                     1993                                  14.28   \n",
       "27                     2002                                  10.20   \n",
       "24                     2002                                  14.28   \n",
       "...                     ...                                    ...   \n",
       "62                     2020                                  16.66   \n",
       "62                     2020                                  16.66   \n",
       "62                     2020                                  16.66   \n",
       "62                     2020                                  16.66   \n",
       "62                     2020                                  16.66   \n",
       "\n",
       "          EMISSIONS_G_KM  L_FUEL_CHARGED_ON_COMPANY_CARD  KM_RUN_2021  \\\n",
       "TONS_CO2                                                                \n",
       "33                 259.4                         2797.36     39946.30   \n",
       "30                 259.4                         2605.07     37200.40   \n",
       "62                 259.4                         5342.75     76294.47   \n",
       "27                 260.0                         3230.43     32950.39   \n",
       "24                 259.4                         2087.44     29808.64   \n",
       "...                  ...                             ...          ...   \n",
       "62                 144.0                         8180.53    136287.71   \n",
       "62                 144.0                         8180.53    136287.71   \n",
       "62                 144.0                         8180.53    136287.71   \n",
       "62                 144.0                         8180.53    136287.71   \n",
       "62                 144.0                         8180.53    136287.71   \n",
       "\n",
       "                  CFP  \n",
       "TONS_CO2               \n",
       "33        10362070.43  \n",
       "30         9649783.66  \n",
       "62        19790785.52  \n",
       "27         8567100.36  \n",
       "24         7732362.05  \n",
       "...               ...  \n",
       "62        19625430.16  \n",
       "62        19625430.16  \n",
       "62        19625430.16  \n",
       "62        19625430.16  \n",
       "62        19625430.16  \n",
       "\n",
       "[210 rows x 10 columns]"
      ]
     },
     "execution_count": 6,
     "metadata": {},
     "output_type": "execute_result"
    }
   ],
   "source": [
    "data.set_index(\"TONS_CO2\")"
   ]
  },
  {
   "cell_type": "code",
   "execution_count": 7,
   "id": "c8f1c314",
   "metadata": {},
   "outputs": [
    {
     "data": {
      "text/plain": [
       "(210, 11)"
      ]
     },
     "execution_count": 7,
     "metadata": {},
     "output_type": "execute_result"
    }
   ],
   "source": [
    "data.shape"
   ]
  },
  {
   "cell_type": "code",
   "execution_count": 8,
   "id": "71ac943b",
   "metadata": {},
   "outputs": [],
   "source": [
    "col_num = [\"TONS_CO2\", \"COMBINED_COMSUMPTION_F_CIRC_CARD_KM_L\", \"EMISSIONS_G_KM\", \n",
    "          \"L_FUEL_CHARGED_ON_COMPANY_CARD\", \"KM_RUN_2021\"]"
   ]
  },
  {
   "cell_type": "code",
   "execution_count": 9,
   "id": "f0b153a5",
   "metadata": {},
   "outputs": [],
   "source": [
    "features_name = col_num.copy()"
   ]
  },
  {
   "cell_type": "code",
   "execution_count": 10,
   "id": "a64175e5",
   "metadata": {},
   "outputs": [],
   "source": [
    "features_name.remove(\"TONS_CO2\")"
   ]
  },
  {
   "cell_type": "code",
   "execution_count": 11,
   "id": "6e521ed6",
   "metadata": {},
   "outputs": [],
   "source": [
    "data = data[col_num].copy()"
   ]
  },
  {
   "cell_type": "code",
   "execution_count": 12,
   "id": "1513ecfd",
   "metadata": {},
   "outputs": [],
   "source": [
    "data[features_name] = data[features_name].fillna(0)"
   ]
  },
  {
   "cell_type": "code",
   "execution_count": 13,
   "id": "a6627a8b",
   "metadata": {},
   "outputs": [],
   "source": [
    "features = data.drop(\"TONS_CO2\", axis=1)\n",
    "target = data[[\"TONS_CO2\"]].values"
   ]
  },
  {
   "cell_type": "markdown",
   "id": "8d9baacf",
   "metadata": {},
   "source": [
    "<h2>ML training</h2><h4>Random Forest</h4>"
   ]
  },
  {
   "cell_type": "code",
   "execution_count": 14,
   "id": "18cfd8d8",
   "metadata": {},
   "outputs": [],
   "source": [
    "y = target\n",
    "X = features"
   ]
  },
  {
   "cell_type": "code",
   "execution_count": 15,
   "id": "84cc797e",
   "metadata": {},
   "outputs": [],
   "source": [
    "train_X, val_X, train_y, val_y = train_test_split(X, y, train_size=0.7, random_state=1)"
   ]
  },
  {
   "cell_type": "code",
   "execution_count": 16,
   "id": "05d0ea9b",
   "metadata": {},
   "outputs": [],
   "source": [
    "model = DecisionTreeRegressor(random_state=1)"
   ]
  },
  {
   "cell_type": "code",
   "execution_count": 17,
   "id": "9afb5238",
   "metadata": {},
   "outputs": [
    {
     "data": {
      "text/html": [
       "<style>#sk-container-id-1 {color: black;background-color: white;}#sk-container-id-1 pre{padding: 0;}#sk-container-id-1 div.sk-toggleable {background-color: white;}#sk-container-id-1 label.sk-toggleable__label {cursor: pointer;display: block;width: 100%;margin-bottom: 0;padding: 0.3em;box-sizing: border-box;text-align: center;}#sk-container-id-1 label.sk-toggleable__label-arrow:before {content: \"▸\";float: left;margin-right: 0.25em;color: #696969;}#sk-container-id-1 label.sk-toggleable__label-arrow:hover:before {color: black;}#sk-container-id-1 div.sk-estimator:hover label.sk-toggleable__label-arrow:before {color: black;}#sk-container-id-1 div.sk-toggleable__content {max-height: 0;max-width: 0;overflow: hidden;text-align: left;background-color: #f0f8ff;}#sk-container-id-1 div.sk-toggleable__content pre {margin: 0.2em;color: black;border-radius: 0.25em;background-color: #f0f8ff;}#sk-container-id-1 input.sk-toggleable__control:checked~div.sk-toggleable__content {max-height: 200px;max-width: 100%;overflow: auto;}#sk-container-id-1 input.sk-toggleable__control:checked~label.sk-toggleable__label-arrow:before {content: \"▾\";}#sk-container-id-1 div.sk-estimator input.sk-toggleable__control:checked~label.sk-toggleable__label {background-color: #d4ebff;}#sk-container-id-1 div.sk-label input.sk-toggleable__control:checked~label.sk-toggleable__label {background-color: #d4ebff;}#sk-container-id-1 input.sk-hidden--visually {border: 0;clip: rect(1px 1px 1px 1px);clip: rect(1px, 1px, 1px, 1px);height: 1px;margin: -1px;overflow: hidden;padding: 0;position: absolute;width: 1px;}#sk-container-id-1 div.sk-estimator {font-family: monospace;background-color: #f0f8ff;border: 1px dotted black;border-radius: 0.25em;box-sizing: border-box;margin-bottom: 0.5em;}#sk-container-id-1 div.sk-estimator:hover {background-color: #d4ebff;}#sk-container-id-1 div.sk-parallel-item::after {content: \"\";width: 100%;border-bottom: 1px solid gray;flex-grow: 1;}#sk-container-id-1 div.sk-label:hover label.sk-toggleable__label {background-color: #d4ebff;}#sk-container-id-1 div.sk-serial::before {content: \"\";position: absolute;border-left: 1px solid gray;box-sizing: border-box;top: 0;bottom: 0;left: 50%;z-index: 0;}#sk-container-id-1 div.sk-serial {display: flex;flex-direction: column;align-items: center;background-color: white;padding-right: 0.2em;padding-left: 0.2em;position: relative;}#sk-container-id-1 div.sk-item {position: relative;z-index: 1;}#sk-container-id-1 div.sk-parallel {display: flex;align-items: stretch;justify-content: center;background-color: white;position: relative;}#sk-container-id-1 div.sk-item::before, #sk-container-id-1 div.sk-parallel-item::before {content: \"\";position: absolute;border-left: 1px solid gray;box-sizing: border-box;top: 0;bottom: 0;left: 50%;z-index: -1;}#sk-container-id-1 div.sk-parallel-item {display: flex;flex-direction: column;z-index: 1;position: relative;background-color: white;}#sk-container-id-1 div.sk-parallel-item:first-child::after {align-self: flex-end;width: 50%;}#sk-container-id-1 div.sk-parallel-item:last-child::after {align-self: flex-start;width: 50%;}#sk-container-id-1 div.sk-parallel-item:only-child::after {width: 0;}#sk-container-id-1 div.sk-dashed-wrapped {border: 1px dashed gray;margin: 0 0.4em 0.5em 0.4em;box-sizing: border-box;padding-bottom: 0.4em;background-color: white;}#sk-container-id-1 div.sk-label label {font-family: monospace;font-weight: bold;display: inline-block;line-height: 1.2em;}#sk-container-id-1 div.sk-label-container {text-align: center;}#sk-container-id-1 div.sk-container {/* jupyter's `normalize.less` sets `[hidden] { display: none; }` but bootstrap.min.css set `[hidden] { display: none !important; }` so we also need the `!important` here to be able to override the default hidden behavior on the sphinx rendered scikit-learn.org. See: https://github.com/scikit-learn/scikit-learn/issues/21755 */display: inline-block !important;position: relative;}#sk-container-id-1 div.sk-text-repr-fallback {display: none;}</style><div id=\"sk-container-id-1\" class=\"sk-top-container\"><div class=\"sk-text-repr-fallback\"><pre>DecisionTreeRegressor(random_state=1)</pre><b>In a Jupyter environment, please rerun this cell to show the HTML representation or trust the notebook. <br />On GitHub, the HTML representation is unable to render, please try loading this page with nbviewer.org.</b></div><div class=\"sk-container\" hidden><div class=\"sk-item\"><div class=\"sk-estimator sk-toggleable\"><input class=\"sk-toggleable__control sk-hidden--visually\" id=\"sk-estimator-id-1\" type=\"checkbox\" checked><label for=\"sk-estimator-id-1\" class=\"sk-toggleable__label sk-toggleable__label-arrow\">DecisionTreeRegressor</label><div class=\"sk-toggleable__content\"><pre>DecisionTreeRegressor(random_state=1)</pre></div></div></div></div></div>"
      ],
      "text/plain": [
       "DecisionTreeRegressor(random_state=1)"
      ]
     },
     "execution_count": 17,
     "metadata": {},
     "output_type": "execute_result"
    }
   ],
   "source": [
    "model.fit(train_X, train_y)"
   ]
  },
  {
   "cell_type": "code",
   "execution_count": 18,
   "id": "7a7a4a15",
   "metadata": {},
   "outputs": [],
   "source": [
    "test_X = data[features_name]"
   ]
  },
  {
   "cell_type": "code",
   "execution_count": 19,
   "id": "bb41986f",
   "metadata": {},
   "outputs": [],
   "source": [
    "test_preds = model.predict(test_X)"
   ]
  },
  {
   "cell_type": "code",
   "execution_count": 20,
   "id": "3f1d012e",
   "metadata": {},
   "outputs": [
    {
     "data": {
      "text/plain": [
       "array([33., 30., 62., 27., 25., 25.,  8., 20., 19.,  2., 41., 30.,  6.,\n",
       "       11.,  2.,  2.,  1.,  8., 26.,  9., 32.,  1., 19.,  2.,  4.,  4.,\n",
       "       18.,  6.,  2.,  6.,  6.,  2., 12., 11., 23., 21., 25.,  9.,  8.,\n",
       "       30., 21., 16., 23., 18., 10., 25., 10., 11., 18., 12.,  9., 40.,\n",
       "       12., 18.,  9., 21., 14.,  8.,  2., 24., 18., 12., 11., 11., 15.,\n",
       "       13., 12.,  5., 35.,  1., 34., 38., 37., 54.,  3.,  6., 16., 19.,\n",
       "       21., 30., 45., 44., 33., 19., 29., 29., 25., 24.,  6., 13., 11.,\n",
       "        9., 30., 20., 11., 12., 17., 28., 73., 29., 30., 29.,  6., 30.,\n",
       "       30.,  1., 80.,  5., 12., 80., 20., 18., 12., 26., 11., 20., 73.,\n",
       "       24., 10., 20., 29., 15., 18., 24., 19., 41., 32., 13., 29., 40.,\n",
       "       31., 24., 27., 40., 36., 17., 16., 10., 17.,  4., 17., 30., 41.,\n",
       "       23., 17., 30., 14., 11., 14.,  9., 11., 33., 15., 15., 23.,  4.,\n",
       "        4., 17., 19., 18.,  9., 11., 11., 15., 19., 15., 11., 14.,  2.,\n",
       "       11.,  5.,  4.,  8., 21., 18., 31., 13., 18., 23., 13., 16., 16.,\n",
       "       24., 17., 17., 17., 17., 67., 67., 50., 50., 68., 68., 68., 67.,\n",
       "       67., 67., 68., 69., 71., 67., 54., 54., 50., 50., 62., 62., 62.,\n",
       "       62., 62.])"
      ]
     },
     "metadata": {},
     "output_type": "display_data"
    }
   ],
   "source": [
    "display(test_preds)"
   ]
  }
 ],
 "metadata": {
  "kernelspec": {
   "display_name": "Python 3 (ipykernel)",
   "language": "python",
   "name": "python3"
  },
  "language_info": {
   "codemirror_mode": {
    "name": "ipython",
    "version": 3
   },
   "file_extension": ".py",
   "mimetype": "text/x-python",
   "name": "python",
   "nbconvert_exporter": "python",
   "pygments_lexer": "ipython3",
   "version": "3.9.12"
  }
 },
 "nbformat": 4,
 "nbformat_minor": 5
}
